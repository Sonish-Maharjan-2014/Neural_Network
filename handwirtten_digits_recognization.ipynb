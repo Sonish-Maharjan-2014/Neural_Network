{
  "nbformat": 4,
  "nbformat_minor": 0,
  "metadata": {
    "colab": {
      "provenance": [],
      "toc_visible": true
    },
    "kernelspec": {
      "name": "python3",
      "display_name": "Python 3"
    },
    "language_info": {
      "name": "python"
    }
  },
  "cells": [
    {
      "cell_type": "markdown",
      "source": [
        "# Importing required library"
      ],
      "metadata": {
        "id": "1lCZ5vRG7-Xx"
      }
    },
    {
      "cell_type": "code",
      "execution_count": 1,
      "metadata": {
        "id": "mB5xkCDklG7a"
      },
      "outputs": [],
      "source": [
        "import pandas as pd\n",
        "import tensorflow as tf\n",
        "import numpy as np\n",
        "import matplotlib.pyplot as plt\n",
        "import plotly.express as px"
      ]
    },
    {
      "cell_type": "code",
      "source": [
        "data = tf.keras.datasets.mnist.load_data(\n",
        "    path='mnist.npz'\n",
        ")"
      ],
      "metadata": {
        "colab": {
          "base_uri": "https://localhost:8080/"
        },
        "id": "_0Pe5pa_wPuh",
        "outputId": "2991ed7b-25b9-4c15-8b68-3cbd78feccf6"
      },
      "execution_count": 2,
      "outputs": [
        {
          "output_type": "stream",
          "name": "stdout",
          "text": [
            "Downloading data from https://storage.googleapis.com/tensorflow/tf-keras-datasets/mnist.npz\n",
            "11490434/11490434 [==============================] - 0s 0us/step\n"
          ]
        }
      ]
    },
    {
      "cell_type": "markdown",
      "source": [
        "Data Analysing"
      ],
      "metadata": {
        "id": "QiwdpFwo702Z"
      }
    },
    {
      "cell_type": "code",
      "source": [
        "# plt.figure(figsize=(15,7))\n",
        "for i in range(10):\n",
        "  plt.subplot(1,10,i+1)\n",
        "  plt.title(data[0][1][i])\n",
        "  \n",
        "  plt.imshow(data[0][0][i])"
      ],
      "metadata": {
        "colab": {
          "base_uri": "https://localhost:8080/",
          "height": 92
        },
        "id": "rqUzeYfFUE2b",
        "outputId": "242816af-1e20-489c-89a9-edc4c8118ece"
      },
      "execution_count": 3,
      "outputs": [
        {
          "output_type": "display_data",
          "data": {
            "text/plain": [
              "<Figure size 432x288 with 10 Axes>"
            ],
            "image/png": "[encoded data removed]"
          },
          "metadata": {
            "needs_background": "light"
          }
        }
      ]
    },
    {
      "cell_type": "code",
      "source": [
        "plt.imshow(data[1][0][0])\n",
        "plt.title(data[1][1][0])"
      ],
      "metadata": {
        "colab": {
          "base_uri": "https://localhost:8080/",
          "height": 298
        },
        "id": "mim5dB13UG8m",
        "outputId": "fb7a3bb2-8b33-4626-cd44-24bf34c2f6b2"
      },
      "execution_count": 4,
      "outputs": [
        {
          "output_type": "execute_result",
          "data": {
            "text/plain": [
              "Text(0.5, 1.0, '7')"
            ]
          },
          "metadata": {},
          "execution_count": 4
        },
        {
          "output_type": "display_data",
          "data": {
            "text/plain": [
              "<Figure size 432x288 with 1 Axes>"
            ],
            "image/png": "[encoded data removed]"
          },
          "metadata": {
            "needs_background": "light"
          }
        }
      ]
    },
    {
      "cell_type": "code",
      "source": [
        "data[0][0].shape"
      ],
      "metadata": {
        "colab": {
          "base_uri": "https://localhost:8080/"
        },
        "id": "guYR5UUeZCQw",
        "outputId": "bed65579-bd16-4644-abca-115dd85a0911"
      },
      "execution_count": 5,
      "outputs": [
        {
          "output_type": "execute_result",
          "data": {
            "text/plain": [
              "(60000, 28, 28)"
            ]
          },
          "metadata": {},
          "execution_count": 5
        }
      ]
    },
    {
      "cell_type": "code",
      "source": [
        "data[1][0].shape"
      ],
      "metadata": {
        "colab": {
          "base_uri": "https://localhost:8080/"
        },
        "id": "ZT3ShwedZ5dO",
        "outputId": "04a075c0-4017-4c7f-9dbc-40d15d956794"
      },
      "execution_count": 6,
      "outputs": [
        {
          "output_type": "execute_result",
          "data": {
            "text/plain": [
              "(10000, 28, 28)"
            ]
          },
          "metadata": {},
          "execution_count": 6
        }
      ]
    },
    {
      "cell_type": "markdown",
      "source": [
        "# Data seperation"
      ],
      "metadata": {
        "id": "3OdhvmlZ8J8D"
      }
    },
    {
      "cell_type": "code",
      "source": [
        "train_x = data[0][0]\n",
        "train_y = data[0][1]"
      ],
      "metadata": {
        "id": "gJD04JO7Z-Nx"
      },
      "execution_count": 7,
      "outputs": []
    },
    {
      "cell_type": "code",
      "source": [
        "test_x = data[1][0]\n",
        "test_y = data[1][1]"
      ],
      "metadata": {
        "id": "BzW3EFJNaS3r"
      },
      "execution_count": 8,
      "outputs": []
    },
    {
      "cell_type": "code",
      "source": [
        "train_x.shape"
      ],
      "metadata": {
        "colab": {
          "base_uri": "https://localhost:8080/"
        },
        "id": "yKhMFyLNaeM0",
        "outputId": "9ad61f17-a138-45b3-a440-1008357de7b8"
      },
      "execution_count": 9,
      "outputs": [
        {
          "output_type": "execute_result",
          "data": {
            "text/plain": [
              "(60000, 28, 28)"
            ]
          },
          "metadata": {},
          "execution_count": 9
        }
      ]
    },
    {
      "cell_type": "markdown",
      "source": [
        "# Data reshaping"
      ],
      "metadata": {
        "id": "gm8Cnzrb8Uys"
      }
    },
    {
      "cell_type": "code",
      "source": [
        "x_train =[]\n",
        "for i in range(len(train_x)):\n",
        "  k = np.array(train_x[i])/255\n",
        "  x_train.append(k.reshape(28*28))\n",
        "# plt.imshow(k)"
      ],
      "metadata": {
        "id": "0-BxpnfEbwH3"
      },
      "execution_count": 11,
      "outputs": []
    },
    {
      "cell_type": "code",
      "source": [
        "x_test = []\n",
        "for i in range(len(test_x)):\n",
        "  k = np.array(test_x[i])/255\n",
        "  x_test.append(k.reshape(28*28))"
      ],
      "metadata": {
        "id": "XT7_T06xqPsE"
      },
      "execution_count": 52,
      "outputs": []
    },
    {
      "cell_type": "code",
      "source": [
        "x_train = np.array(x_train)\n",
        "x_test = np.array(x_test)"
      ],
      "metadata": {
        "id": "L2AU3Y7pbXOh"
      },
      "execution_count": 55,
      "outputs": []
    },
    {
      "cell_type": "code",
      "source": [
        "y_train = np.array(train_y)\n",
        "y_test = np.array(test_y)\n",
        "# y_train.shape"
      ],
      "metadata": {
        "id": "9rx_7g6ehM39"
      },
      "execution_count": 56,
      "outputs": []
    },
    {
      "cell_type": "markdown",
      "source": [
        "# Design Simple Neural Network"
      ],
      "metadata": {
        "id": "dKOVmZWs8ZRL"
      }
    },
    {
      "cell_type": "code",
      "source": [
        "# inputs = tf.keras.layers.InputLayer(input_shape=(28*28,))\n",
        "layer_1 = tf.keras.layers.Dense(units = 25*25, activation='relu')\n",
        "layer_2 = tf.keras.layers.Dense(units = 20*20, activation = 'relu')\n",
        "layer_3 = tf.keras.layers.Dense(units = 10*10, activation = 'relu')\n",
        "layer_4 = tf.keras.layers.Dense(units = 5*5, activation = 'relu')\n",
        "layer_5 = tf.keras.layers.Dense(units = 10, activation = 'linear')"
      ],
      "metadata": {
        "id": "ET83yIn5dZdE"
      },
      "execution_count": 15,
      "outputs": []
    },
    {
      "cell_type": "code",
      "source": [
        "model = tf.keras.Sequential([layer_1,layer_2, layer_3, layer_4, layer_5])"
      ],
      "metadata": {
        "id": "-EKBplcwfQJo"
      },
      "execution_count": 16,
      "outputs": []
    },
    {
      "cell_type": "markdown",
      "source": [
        "# logits to minimize numerical error\n",
        "adam is used for optimization. It operates similar to gradient descent but it choose learning rate according to need, it enhance the model by minimizing the cost"
      ],
      "metadata": {
        "id": "FNWF4vvc8k-i"
      }
    },
    {
      "cell_type": "code",
      "source": [
        "# from tensorflow.keras.loses import BinaryCrossEntropy\n",
        "sce = tf.keras.losses.SparseCategoricalCrossentropy(from_logits=True)\n",
        "# bce = tf.keras.losses.BinaryCrossentropy()\n",
        "adam = tf.keras.optimizers.Adam(learning_rate=0.001)\n",
        "model.compile(loss=sce, optimizer=adam)"
      ],
      "metadata": {
        "id": "R2phcDmpgOzv"
      },
      "execution_count": 19,
      "outputs": []
    },
    {
      "cell_type": "code",
      "source": [
        "model.fit(x_train,y_train,epochs=20)"
      ],
      "metadata": {
        "colab": {
          "base_uri": "https://localhost:8080/"
        },
        "id": "lUybGchfggat",
        "outputId": "71cc5b21-a396-442a-a88c-a40bbe0bf531"
      },
      "execution_count": 20,
      "outputs": [
        {
          "output_type": "stream",
          "name": "stdout",
          "text": [
            "Epoch 1/20\n",
            "1875/1875 [==============================] - 20s 10ms/step - loss: 0.2260\n",
            "Epoch 2/20\n",
            "1875/1875 [==============================] - 21s 11ms/step - loss: 0.0924\n",
            "Epoch 3/20\n",
            "1875/1875 [==============================] - 20s 11ms/step - loss: 0.0679\n",
            "Epoch 4/20\n",
            "1875/1875 [==============================] - 20s 10ms/step - loss: 0.0531\n",
            "Epoch 5/20\n",
            "1875/1875 [==============================] - 21s 11ms/step - loss: 0.0428\n",
            "Epoch 6/20\n",
            "1875/1875 [==============================] - 20s 11ms/step - loss: 0.0350\n",
            "Epoch 7/20\n",
            "1875/1875 [==============================] - 20s 10ms/step - loss: 0.0313\n",
            "Epoch 8/20\n",
            "1875/1875 [==============================] - 20s 11ms/step - loss: 0.0268\n",
            "Epoch 9/20\n",
            "1875/1875 [==============================] - 22s 12ms/step - loss: 0.0239\n",
            "Epoch 10/20\n",
            "1875/1875 [==============================] - 20s 11ms/step - loss: 0.0207\n",
            "Epoch 11/20\n",
            "1875/1875 [==============================] - 20s 11ms/step - loss: 0.0202\n",
            "Epoch 12/20\n",
            "1875/1875 [==============================] - 20s 11ms/step - loss: 0.0194\n",
            "Epoch 13/20\n",
            "1875/1875 [==============================] - 20s 11ms/step - loss: 0.0175\n",
            "Epoch 14/20\n",
            "1875/1875 [==============================] - 20s 11ms/step - loss: 0.0162\n",
            "Epoch 15/20\n",
            "1875/1875 [==============================] - 20s 11ms/step - loss: 0.0155\n",
            "Epoch 16/20\n",
            "1875/1875 [==============================] - 21s 11ms/step - loss: 0.0134\n",
            "Epoch 17/20\n",
            "1875/1875 [==============================] - 20s 10ms/step - loss: 0.0135\n",
            "Epoch 18/20\n",
            "1875/1875 [==============================] - 20s 10ms/step - loss: 0.0129\n",
            "Epoch 19/20\n",
            "1875/1875 [==============================] - 20s 11ms/step - loss: 0.0134\n",
            "Epoch 20/20\n",
            "1875/1875 [==============================] - 20s 10ms/step - loss: 0.0112\n"
          ]
        },
        {
          "output_type": "execute_result",
          "data": {
            "text/plain": [
              "<keras.callbacks.History at 0x7fafff0d81c0>"
            ]
          },
          "metadata": {},
          "execution_count": 20
        }
      ]
    },
    {
      "cell_type": "code",
      "source": [
        "logit = model(x_train)"
      ],
      "metadata": {
        "id": "2Y9OAVMNlCoc"
      },
      "execution_count": 172,
      "outputs": []
    },
    {
      "cell_type": "markdown",
      "source": [
        "# Softmax for multiclass regeression"
      ],
      "metadata": {
        "id": "GWT_pSBT9hKR"
      }
    },
    {
      "cell_type": "code",
      "source": [
        "f_x = tf.nn.softmax(logit)"
      ],
      "metadata": {
        "id": "b5lDKrOTo98V"
      },
      "execution_count": 173,
      "outputs": []
    },
    {
      "cell_type": "code",
      "source": [
        "\n",
        "f_x[0]"
      ],
      "metadata": {
        "colab": {
          "base_uri": "https://localhost:8080/"
        },
        "id": "lkxIYXHqpF24",
        "outputId": "b4757b35-9e97-457e-95cb-c7d2084c16a4"
      },
      "execution_count": 174,
      "outputs": [
        {
          "output_type": "execute_result",
          "data": {
            "text/plain": [
              "<tf.Tensor: shape=(10,), dtype=float32, numpy=\n",
              "array([1.1920095e-08, 1.3872982e-09, 8.5710036e-11, 8.0226537e-06,\n",
              "       3.6544374e-09, 9.9998730e-01, 4.6735622e-07, 3.2744567e-06,\n",
              "       8.0379573e-07, 3.2984520e-08], dtype=float32)>"
            ]
          },
          "metadata": {},
          "execution_count": 174
        }
      ]
    },
    {
      "cell_type": "code",
      "source": [
        "\n",
        "y_pred = model.predict(x_test)"
      ],
      "metadata": {
        "colab": {
          "base_uri": "https://localhost:8080/"
        },
        "id": "UUYlFDLqpG2g",
        "outputId": "ec20965b-dc2b-4037-b4a2-aaaa5f82654e"
      },
      "execution_count": 185,
      "outputs": [
        {
          "output_type": "stream",
          "name": "stdout",
          "text": [
            "313/313 [==============================] - 1s 5ms/step\n"
          ]
        }
      ]
    },
    {
      "cell_type": "code",
      "source": [
        "f_y = tf.nn.softmax(y_pred)"
      ],
      "metadata": {
        "id": "uF_bz7p6pW3m"
      },
      "execution_count": 186,
      "outputs": []
    },
    {
      "cell_type": "code",
      "source": [
        "y_predict = []\n",
        "for i in range(len(y_pred)):\n",
        "  prob = list(f_y[i].numpy())\n",
        "  y_predict.append(prob.index(max(prob)))\n",
        "# prob"
      ],
      "metadata": {
        "id": "KxiPzKAksTjM"
      },
      "execution_count": 189,
      "outputs": []
    },
    {
      "cell_type": "markdown",
      "source": [
        "# Accuracy calculation"
      ],
      "metadata": {
        "id": "Rke1Dfc9-Zdw"
      }
    },
    {
      "cell_type": "code",
      "source": [
        "from sklearn.metrics import accuracy_score\n",
        "accuracy_score(y_test,y_predict)"
      ],
      "metadata": {
        "colab": {
          "base_uri": "https://localhost:8080/"
        },
        "id": "B2YqlZZr-Kk2",
        "outputId": "e1e25337-7961-4589-fcd5-14e987ae83d2"
      },
      "execution_count": 190,
      "outputs": [
        {
          "output_type": "execute_result",
          "data": {
            "text/plain": [
              "0.9848"
            ]
          },
          "metadata": {},
          "execution_count": 190
        }
      ]
    },
    {
      "cell_type": "markdown",
      "source": [
        "# Testing"
      ],
      "metadata": {
        "id": "CzdXmnFL-hJ3"
      }
    },
    {
      "cell_type": "code",
      "source": [
        "import cv2 \n",
        "img = cv2.imread(f'/content/test_9.png',0)\n",
        "img = cv2.resize(img,(28,28),interpolation = cv2.INTER_LINEAR)\n",
        "img = img/255\n",
        "img.shape\n",
        "plt.imshow(img)\n",
        "img =img.reshape(28*28)\n",
        "img.shape\n",
        "img= np.array([img])\n",
        "# y_test[0].\n",
        "y_pred = model.predict(img)\n",
        "f_y = tf.nn.softmax(y_pred)\n",
        "prob = list(f_y[0].numpy())\n",
        "print(prob.index(max(prob)))\n",
        "max(prob)"
      ],
      "metadata": {
        "colab": {
          "base_uri": "https://localhost:8080/",
          "height": 317
        },
        "id": "XTeOaH_0sb6f",
        "outputId": "9b963f09-bdb4-4b68-e4ec-021d8358bbf9"
      },
      "execution_count": 183,
      "outputs": [
        {
          "output_type": "stream",
          "name": "stdout",
          "text": [
            "1/1 [==============================] - 0s 19ms/step\n",
            "9\n"
          ]
        },
        {
          "output_type": "execute_result",
          "data": {
            "text/plain": [
              "0.7280368"
            ]
          },
          "metadata": {},
          "execution_count": 183
        },
        {
          "output_type": "display_data",
          "data": {
            "text/plain": [
              "<Figure size 432x288 with 1 Axes>"
            ],
            "image/png": "[encoded data removed]"
          },
          "metadata": {
            "needs_background": "light"
          }
        }
      ]
    },
    {
      "cell_type": "code",
      "source": [
        "sum(prob)\n"
      ],
      "metadata": {
        "colab": {
          "base_uri": "https://localhost:8080/"
        },
        "id": "ErAmBfh4yxwS",
        "outputId": "c654eed2-4d17-47fe-d5dc-38492149a60d"
      },
      "execution_count": 170,
      "outputs": [
        {
          "output_type": "execute_result",
          "data": {
            "text/plain": [
              "array([0.0000000e+00, 3.6546392e-23, 3.4550436e-20, 1.0000000e+00,\n",
              "       4.7741193e-30, 6.2992586e-21, 0.0000000e+00, 1.5128294e-24,\n",
              "       4.5060420e-33, 1.1118080e-30], dtype=float32)"
            ]
          },
          "metadata": {},
          "execution_count": 170
        }
      ]
    },
    {
      "cell_type": "code",
      "source": [
        "prob"
      ],
      "metadata": {
        "colab": {
          "base_uri": "https://localhost:8080/"
        },
        "id": "O7ZIB97Ky2h2",
        "outputId": "52876795-4df8-4319-e695-818e796787b6"
      },
      "execution_count": 165,
      "outputs": [
        {
          "output_type": "execute_result",
          "data": {
            "text/plain": [
              "[array([0.0000000e+00, 3.6546392e-23, 3.4550436e-20, 1.0000000e+00,\n",
              "        4.7741193e-30, 6.2992586e-21, 0.0000000e+00, 1.5128294e-24,\n",
              "        4.5060420e-33, 1.1118080e-30], dtype=float32)]"
            ]
          },
          "metadata": {},
          "execution_count": 165
        }
      ]
    },
    {
      "cell_type": "code",
      "source": [],
      "metadata": {
        "id": "vqQQrBh3y4my"
      },
      "execution_count": 162,
      "outputs": []
    },
    {
      "cell_type": "code",
      "source": [],
      "metadata": {
        "id": "lXDFYLVR0NrT"
      },
      "execution_count": 162,
      "outputs": []
    },
    {
      "cell_type": "code",
      "source": [],
      "metadata": {
        "id": "AYsJ4QMz0afn"
      },
      "execution_count": 162,
      "outputs": []
    },
    {
      "cell_type": "code",
      "source": [],
      "metadata": {
        "id": "T2TmsPHc0rnV"
      },
      "execution_count": 162,
      "outputs": []
    },
    {
      "cell_type": "code",
      "source": [],
      "metadata": {
        "id": "X1u5KdG60wGS"
      },
      "execution_count": 162,
      "outputs": []
    },
    {
      "cell_type": "code",
      "source": [],
      "metadata": {
        "id": "m6pgKhZY02Vj"
      },
      "execution_count": null,
      "outputs": []
    }
  ]
}