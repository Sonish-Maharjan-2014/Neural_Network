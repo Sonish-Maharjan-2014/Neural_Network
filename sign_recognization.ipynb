{
  "cells": [
    {
      "cell_type": "markdown",
      "metadata": {
        "id": "view-in-github",
        "colab_type": "text"
      },
      "source": [
        "<a href=\"https://colab.research.google.com/github/Sonish-Maharjan-2014/Neural_Network/blob/master/sign_recognization.ipynb\" target=\"_parent\"><img src=\"https://colab.research.google.com/assets/colab-badge.svg\" alt=\"Open In Colab\"/></a>"
      ]
    },
    {
      "cell_type": "code",
      "execution_count": 1,
      "metadata": {
        "id": "p5J8f7YfhP3s"
      },
      "outputs": [],
      "source": [
        "import pandas as pd\n",
        "import numpy as np \n",
        "import matplotlib.pyplot as plt\n",
        "from tensorflow.keras.layers import Dense,Conv2D,Input,Softmax,MaxPool2D,Flatten\n",
        "from tensorflow.keras import Sequential\n",
        "import plotly.express as px\n",
        "import os\n",
        "import cv2\n",
        "from tensorflow.keras.optimizers import Adam\n",
        "from tensorflow.keras.losses import SparseCategoricalCrossentropy\n",
        "from sklearn.model_selection import train_test_split\n",
        "import tensorflow as tf"
      ]
    },
    {
      "cell_type": "code",
      "execution_count": 2,
      "metadata": {
        "colab": {
          "base_uri": "https://localhost:8080/"
        },
        "id": "mgirDxhqiDSR",
        "outputId": "f2e0188a-56d7-46e9-8b43-c6ebafd076f3"
      },
      "outputs": [
        {
          "output_type": "stream",
          "name": "stdout",
          "text": [
            "Mounted at /content/drive\n"
          ]
        }
      ],
      "source": [
        "from google.colab import drive\n",
        "drive.mount('/content/drive')"
      ]
    },
    {
      "cell_type": "code",
      "execution_count": 43,
      "metadata": {
        "id": "-n4iTg8KiM9u"
      },
      "outputs": [],
      "source": [
        "folder = os.listdir(f'/content/drive/MyDrive/data')\n",
        "folder.sort(reverse=True)\n",
        "number_of_record = len(folder)"
      ]
    },
    {
      "cell_type": "code",
      "execution_count": 44,
      "metadata": {
        "id": "gh2SjfCxifCB"
      },
      "outputs": [],
      "source": [
        "encoded = {}\n",
        "e=0\n",
        "for i in folder:\n",
        "  encoded[i] = e\n",
        "  e+=1"
      ]
    },
    {
      "cell_type": "code",
      "execution_count": null,
      "metadata": {
        "colab": {
          "base_uri": "https://localhost:8080/"
        },
        "id": "lLZly-yOjYnd",
        "outputId": "caa1f4d2-9e1f-442b-c61f-2af9f7d41bf0"
      },
      "outputs": [
        {
          "name": "stdout",
          "output_type": "stream",
          "text": [
            "{'Z': 0, 'Y': 1, 'X': 2, 'W': 3, 'V': 4, 'U': 5, 'T': 6, 'S': 7, 'R': 8, 'Q': 9, 'P': 10, 'O': 11, 'N': 12, 'M': 13, 'L': 14, 'K': 15, 'J': 16, 'I': 17, 'H': 18, 'G': 19, 'F': 20, 'E': 21, 'D': 22, 'C': 23, 'B': 24, 'A': 25, '9': 26, '8': 27, '7': 28, '6': 29, '5': 30, '4': 31, '3': 32, '2': 33, '1': 34} "
          ]
        }
      ],
      "source": [
        "print(encoded,end=' ')"
      ]
    },
    {
      "cell_type": "code",
      "execution_count": null,
      "metadata": {
        "id": "roZ_yA6FjffS"
      },
      "outputs": [],
      "source": [
        "path = '/content/drive/MyDrive/data'\n",
        "image_list = []\n",
        "output_list = []\n",
        "p = 0\n",
        "for i in folder:\n",
        "  filename = os.listdir(f'{path}/{i}')\n",
        "  for j in filename:\n",
        "    image_list.append(cv2.imread(f'{path}/{i}/{j}',0))\n",
        "    output_list.append(p)\n",
        "  p+=1"
      ]
    },
    {
      "cell_type": "code",
      "execution_count": null,
      "metadata": {
        "id": "aU6_jv14r3Qh"
      },
      "outputs": [],
      "source": [
        "image_array = np.array(image_list)\n",
        "output_array = np.array(output_list)"
      ]
    },
    {
      "cell_type": "code",
      "execution_count": null,
      "metadata": {
        "colab": {
          "base_uri": "https://localhost:8080/"
        },
        "id": "9D3fEtH5XVV5",
        "outputId": "f2b7e55a-45da-4cff-d3d2-1a4de16203de"
      },
      "outputs": [
        {
          "data": {
            "text/plain": [
              "((42000, 128, 128), (42000,))"
            ]
          },
          "execution_count": 11,
          "metadata": {},
          "output_type": "execute_result"
        }
      ],
      "source": [
        "image_array.shape,output_array.shape"
      ]
    },
    {
      "cell_type": "code",
      "execution_count": null,
      "metadata": {
        "colab": {
          "base_uri": "https://localhost:8080/"
        },
        "id": "q-nTw_aqX2mN",
        "outputId": "88302e09-f768-4a51-a1d4-ac13276ab724"
      },
      "outputs": [
        {
          "data": {
            "text/plain": [
              "(42000, 16384)"
            ]
          },
          "execution_count": 8,
          "metadata": {},
          "output_type": "execute_result"
        }
      ],
      "source": [
        "k = image_array.reshape(-1,128*128)\n",
        "k.shape"
      ]
    },
    {
      "cell_type": "code",
      "execution_count": null,
      "metadata": {
        "colab": {
          "base_uri": "https://localhost:8080/"
        },
        "id": "NeJLZqdHxvj_",
        "outputId": "447cac8c-b9a5-46f9-a5fe-203b7add1674"
      },
      "outputs": [
        {
          "data": {
            "text/plain": [
              "16384"
            ]
          },
          "execution_count": 11,
          "metadata": {},
          "output_type": "execute_result"
        }
      ],
      "source": [
        "len(k[2])"
      ]
    },
    {
      "cell_type": "code",
      "execution_count": null,
      "metadata": {
        "id": "wrEiywpcXaRC"
      },
      "outputs": [],
      "source": [
        "# np.savetxt(f\"/content/drive/MyDrive/array_data/image/image123.csv\", k, delimiter=\",\")\n",
        "# np.savetxt(f\"/content/drive/MyDrive/array_data/image/label.csv\", output_array, delimiter=\",\")\n"
      ]
    },
    {
      "cell_type": "code",
      "execution_count": null,
      "metadata": {
        "id": "iGiYpD7abZJG"
      },
      "outputs": [],
      "source": [
        "data = pd.read_csv('/content/drive/MyDrive/array_data/image/image.csv')\n",
        "data.head()"
      ]
    },
    {
      "cell_type": "code",
      "execution_count": null,
      "metadata": {
        "colab": {
          "base_uri": "https://localhost:8080/"
        },
        "id": "1750YyLisGuU",
        "outputId": "7cbcd3fe-e732-43d3-b4e6-c057cf7c7845"
      },
      "outputs": [
        {
          "data": {
            "text/plain": [
              "(42000, 42000)"
            ]
          },
          "execution_count": 13,
          "metadata": {},
          "output_type": "execute_result"
        }
      ],
      "source": [
        "len(image_array),len(output_array)"
      ]
    },
    {
      "cell_type": "code",
      "execution_count": null,
      "metadata": {
        "id": "zOVn3otHlY9Q"
      },
      "outputs": [],
      "source": [
        "layer_0 = Input(shape=(128,128,1))\n",
        "layer_11 = Conv2D(filters=64,kernel_size = 3,activation = 'relu',padding = 'same',  kernel_initializer = 'he_normal')\n",
        "layer_1 = MaxPool2D(pool_size=(2,2))\n",
        "\n",
        "layer_21 = Conv2D(filters = 128,kernel_size = 3,activation = 'relu',padding = 'same',  kernel_initializer = 'he_normal')\n",
        "layer_2 = MaxPool2D((2,2))\n",
        "\n",
        "layer_31 = Conv2D(filters = 256,kernel_size = 3,activation = 'relu',padding = 'same',  kernel_initializer = 'he_normal')\n",
        "layer_3 = MaxPool2D((2,2))\n",
        "\n",
        "layer_41 = Conv2D(filters = 512,kernel_size = 3,activation = 'relu',padding = 'same',  kernel_initializer = 'he_normal')\n",
        "layer_4 = MaxPool2D((2,2))\n",
        "\n",
        "layer_5 = Flatten()\n",
        "\n",
        "layer_6 = Dense(units=100,activation = 'relu')\n",
        "\n",
        "layer_7 = Dense(units=50,activation = 'relu')\n",
        "\n",
        "layer_8 = Dense(units=35, activation='softmax')"
      ]
    },
    {
      "cell_type": "code",
      "execution_count": null,
      "metadata": {
        "id": "03Kppow4px5i"
      },
      "outputs": [],
      "source": [
        "model = Sequential([layer_0,layer_11,layer_1,layer_21,layer_2,layer_31,layer_3,layer_41\n",
        "                    ,layer_4, layer_5, layer_6, layer_7,layer_8])"
      ]
    },
    {
      "cell_type": "code",
      "execution_count": null,
      "metadata": {
        "id": "Wghcn36tbVay"
      },
      "outputs": [],
      "source": [
        "adam = Adam(learning_rate=0.001)\n",
        "scc = SparseCategoricalCrossentropy()\n",
        "model.compile(optimizer=adam,\n",
        "              loss=scc,\n",
        "              metrics = ['accuracy']\n",
        "              )"
      ]
    },
    {
      "cell_type": "code",
      "execution_count": 33,
      "metadata": {
        "colab": {
          "base_uri": "https://localhost:8080/"
        },
        "id": "p2a-zTKs23Cx",
        "outputId": "bee1ce13-58d8-4710-f2b4-dc676d9d2b63"
      },
      "outputs": [
        {
          "output_type": "stream",
          "name": "stdout",
          "text": [
            "Epoch 1/3\n",
            "1313/1313 [==============================] - 7405s 6s/step - loss: 2.8986 - accuracy: 0.9668\n",
            "Epoch 2/3\n",
            "1313/1313 [==============================] - 6678s 5s/step - loss: 1.2040e-05 - accuracy: 1.0000\n",
            "Epoch 3/3\n",
            "1313/1313 [==============================] - 5469s 4s/step - loss: 2.0586e-06 - accuracy: 1.0000\n"
          ]
        },
        {
          "output_type": "execute_result",
          "data": {
            "text/plain": [
              "<keras.callbacks.History at 0x7f4c7fe9b7f0>"
            ]
          },
          "metadata": {},
          "execution_count": 33
        }
      ],
      "source": [
        "model.fit(image_array,output_array,epochs=3,batch_size = 32)"
      ]
    },
    {
      "cell_type": "code",
      "execution_count": 34,
      "metadata": {
        "id": "HG4rfBPg38JE"
      },
      "outputs": [],
      "source": [
        "model.save('/content/drive/MyDrive/array_data/image/sign.h5')\n"
      ]
    },
    {
      "cell_type": "code",
      "source": [
        "new_model = tf.keras.models.load_model('/content/drive/MyDrive/array_data/image/sign.h5')\n"
      ],
      "metadata": {
        "id": "_SkZKEoGGFYA"
      },
      "execution_count": 3,
      "outputs": []
    },
    {
      "cell_type": "code",
      "source": [
        "image_array[1].shape"
      ],
      "metadata": {
        "colab": {
          "base_uri": "https://localhost:8080/"
        },
        "id": "vts_ramdEd6B",
        "outputId": "ac4456fc-236b-474c-c17d-28f1908e37d0"
      },
      "execution_count": 39,
      "outputs": [
        {
          "output_type": "execute_result",
          "data": {
            "text/plain": [
              "(128, 128)"
            ]
          },
          "metadata": {},
          "execution_count": 39
        }
      ]
    },
    {
      "cell_type": "code",
      "source": [
        "test = cv2.imread(f'https://arc-anglerfish-washpost-prod-washpost.s3.amazonaws.com/public/3BRW23HAKUI6TPT7JTEFAF6DN4.jpg',0)\n",
        "# k=test.reshape(128,128,1)\n",
        "test = cv2.resize(test,(128,128))\n",
        "# plt.imshow(image_array[4])\n",
        "# image_array[0],test\n",
        "y_pred = new_model.predict(np.array([test]))\n",
        "plt.imshow(test)\n"
      ],
      "metadata": {
        "colab": {
          "base_uri": "https://localhost:8080/",
          "height": 235
        },
        "id": "j4XzqbsAD5Gu",
        "outputId": "dea90a5c-c6d7-4177-de84-d4aa2469b818"
      },
      "execution_count": 56,
      "outputs": [
        {
          "output_type": "error",
          "ename": "error",
          "evalue": "ignored",
          "traceback": [
            "\u001b[0;31m---------------------------------------------------------------------------\u001b[0m",
            "\u001b[0;31merror\u001b[0m                                     Traceback (most recent call last)",
            "\u001b[0;32m<ipython-input-56-c73121c2e049>\u001b[0m in \u001b[0;36m<module>\u001b[0;34m\u001b[0m\n\u001b[1;32m      1\u001b[0m \u001b[0mtest\u001b[0m \u001b[0;34m=\u001b[0m \u001b[0mcv2\u001b[0m\u001b[0;34m.\u001b[0m\u001b[0mimread\u001b[0m\u001b[0;34m(\u001b[0m\u001b[0;34mf'https://arc-anglerfish-washpost-prod-washpost.s3.amazonaws.com/public/3BRW23HAKUI6TPT7JTEFAF6DN4.jpg'\u001b[0m\u001b[0;34m,\u001b[0m\u001b[0;36m0\u001b[0m\u001b[0;34m)\u001b[0m\u001b[0;34m\u001b[0m\u001b[0;34m\u001b[0m\u001b[0m\n\u001b[1;32m      2\u001b[0m \u001b[0;31m# k=test.reshape(128,128,1)\u001b[0m\u001b[0;34m\u001b[0m\u001b[0;34m\u001b[0m\u001b[0;34m\u001b[0m\u001b[0m\n\u001b[0;32m----> 3\u001b[0;31m \u001b[0mtest\u001b[0m \u001b[0;34m=\u001b[0m \u001b[0mcv2\u001b[0m\u001b[0;34m.\u001b[0m\u001b[0mresize\u001b[0m\u001b[0;34m(\u001b[0m\u001b[0mtest\u001b[0m\u001b[0;34m,\u001b[0m\u001b[0;34m(\u001b[0m\u001b[0;36m128\u001b[0m\u001b[0;34m,\u001b[0m\u001b[0;36m128\u001b[0m\u001b[0;34m)\u001b[0m\u001b[0;34m)\u001b[0m\u001b[0;34m\u001b[0m\u001b[0;34m\u001b[0m\u001b[0m\n\u001b[0m\u001b[1;32m      4\u001b[0m \u001b[0;31m# plt.imshow(image_array[4])\u001b[0m\u001b[0;34m\u001b[0m\u001b[0;34m\u001b[0m\u001b[0;34m\u001b[0m\u001b[0m\n\u001b[1;32m      5\u001b[0m \u001b[0;31m# image_array[0],test\u001b[0m\u001b[0;34m\u001b[0m\u001b[0;34m\u001b[0m\u001b[0;34m\u001b[0m\u001b[0m\n",
            "\u001b[0;31merror\u001b[0m: OpenCV(4.6.0) /io/opencv/modules/imgproc/src/resize.cpp:4052: error: (-215:Assertion failed) !ssize.empty() in function 'resize'\n"
          ]
        }
      ]
    },
    {
      "cell_type": "code",
      "source": [
        "# predict = list(y_pred)"
      ],
      "metadata": {
        "id": "td5xdZ3LD_v7"
      },
      "execution_count": 34,
      "outputs": []
    },
    {
      "cell_type": "code",
      "source": [
        "# encode_keys = list(encoded.keys())\n",
        "# encode_keys"
      ],
      "metadata": {
        "id": "1oWrrkcKJGwq"
      },
      "execution_count": 53,
      "outputs": []
    },
    {
      "cell_type": "code",
      "source": [
        "probab = y_pred.tolist()[0]\n",
        "print(\"Predicted Digit =\", encode_keys[probab.index(max(probab))])\n",
        "# view_classify(img.view(1, 28, 28), "
      ],
      "metadata": {
        "colab": {
          "base_uri": "https://localhost:8080/"
        },
        "id": "FLgdDlN6F1nu",
        "outputId": "0f5e12cc-f176-47c5-c0ea-795bff66a979"
      },
      "execution_count": 52,
      "outputs": [
        {
          "output_type": "stream",
          "name": "stdout",
          "text": [
            "Predicted Digit = 1\n"
          ]
        }
      ]
    },
    {
      "cell_type": "code",
      "source": [
        "probab"
      ],
      "metadata": {
        "colab": {
          "base_uri": "https://localhost:8080/"
        },
        "id": "X0US8fi1HEhP",
        "outputId": "e2670ac1-20fa-4341-e734-1bca9dcfda22"
      },
      "execution_count": 32,
      "outputs": [
        {
          "output_type": "execute_result",
          "data": {
            "text/plain": [
              "[6.679371153950342e-07,\n",
              " 4.057026936621355e-11,\n",
              " 4.3696022820026437e-13,\n",
              " 2.62492697940025e-17,\n",
              " 2.4759856654845643e-17,\n",
              " 2.398459469227232e-12,\n",
              " 1.173915196925776e-21,\n",
              " 0.0002192901010857895,\n",
              " 1.3261693132538e-10,\n",
              " 1.1367330410294585e-09,\n",
              " 6.719992214732984e-15,\n",
              " 9.7998864578841e-10,\n",
              " 3.5207552164416334e-29,\n",
              " 1.7095251791943156e-07,\n",
              " 2.2724672129806464e-15,\n",
              " 2.3241639432398466e-17,\n",
              " 4.7972581963082924e-20,\n",
              " 2.3747535188300972e-11,\n",
              " 1.382594754419673e-26,\n",
              " 2.018450329341011e-19,\n",
              " 1.1469786429427176e-15,\n",
              " 4.912754743995518e-24,\n",
              " 1.998219213127614e-17,\n",
              " 4.083766752501016e-25,\n",
              " 2.851573138015465e-23,\n",
              " 1.756318070491314e-26,\n",
              " 2.852494276339712e-07,\n",
              " 3.872381967084948e-06,\n",
              " 1.0026494019181357e-19,\n",
              " 1.1773309304070526e-16,\n",
              " 4.4323434940301443e-26,\n",
              " 0.9997754693031311,\n",
              " 1.6240454536742277e-09,\n",
              " 3.66434505849611e-07,\n",
              " 1.8663952981791936e-22]"
            ]
          },
          "metadata": {},
          "execution_count": 32
        }
      ]
    },
    {
      "cell_type": "code",
      "source": [],
      "metadata": {
        "id": "I4Dh_M_IH7PK"
      },
      "execution_count": null,
      "outputs": []
    }
  ],
  "metadata": {
    "colab": {
      "provenance": [],
      "authorship_tag": "ABX9TyNftEvJT9J+AzvoJu2C0+dW",
      "include_colab_link": true
    },
    "kernelspec": {
      "display_name": "Python 3",
      "name": "python3"
    },
    "language_info": {
      "name": "python"
    }
  },
  "nbformat": 4,
  "nbformat_minor": 0
}