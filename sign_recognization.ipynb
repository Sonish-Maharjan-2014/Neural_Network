{
  "cells": [
    {
      "cell_type": "markdown",
      "metadata": {
        "id": "view-in-github",
        "colab_type": "text"
      },
      "source": [
        "<a href=\"https://colab.research.google.com/github/Sonish-Maharjan-2014/Neural_Network/blob/master/sign_recognization.ipynb\" target=\"_parent\"><img src=\"https://colab.research.google.com/assets/colab-badge.svg\" alt=\"Open In Colab\"/></a>"
      ]
    },
    {
      "cell_type": "code",
      "execution_count": 1,
      "metadata": {
        "id": "p5J8f7YfhP3s"
      },
      "outputs": [],
      "source": [
        "import pandas as pd\n",
        "import numpy as np \n",
        "import matplotlib.pyplot as plt\n",
        "from tensorflow.keras.layers import Dense,Conv2D,Input,Softmax,MaxPool2D,Flatten\n",
        "from tensorflow.keras import Sequential\n",
        "import plotly.express as px\n",
        "import os\n",
        "import cv2\n",
        "from tensorflow.keras.optimizers import Adam\n",
        "from tensorflow.keras.losses import SparseCategoricalCrossentropy\n",
        "from sklearn.model_selection import train_test_split\n",
        "import tensorflow as tf"
      ]
    },
    {
      "cell_type": "code",
      "execution_count": 2,
      "metadata": {
        "colab": {
          "base_uri": "https://localhost:8080/"
        },
        "id": "mgirDxhqiDSR",
        "outputId": "f2e0188a-56d7-46e9-8b43-c6ebafd076f3"
      },
      "outputs": [
        {
          "output_type": "stream",
          "name": "stdout",
          "text": [
            "Mounted at /content/drive\n"
          ]
        }
      ],
      "source": [
        "from google.colab import drive\n",
        "drive.mount('/content/drive')"
      ]
    },
    {
      "cell_type": "code",
      "execution_count": 43,
      "metadata": {
        "id": "-n4iTg8KiM9u"
      },
      "outputs": [],
      "source": [
        "folder = os.listdir(f'/content/drive/MyDrive/data')\n",
        "folder.sort(reverse=True)\n",
        "number_of_record = len(folder)"
      ]
    },
    {
      "cell_type": "code",
      "execution_count": 44,
      "metadata": {
        "id": "gh2SjfCxifCB"
      },
      "outputs": [],
      "source": [
        "encoded = {}\n",
        "e=0\n",
        "for i in folder:\n",
        "  encoded[i] = e\n",
        "  e+=1"
      ]
    },
    {
      "cell_type": "code",
      "execution_count": null,
      "metadata": {
        "colab": {
          "base_uri": "https://localhost:8080/"
        },
        "id": "lLZly-yOjYnd",
        "outputId": "caa1f4d2-9e1f-442b-c61f-2af9f7d41bf0"
      },
      "outputs": [
        {
          "name": "stdout",
          "output_type": "stream",
          "text": [
            "{'Z': 0, 'Y': 1, 'X': 2, 'W': 3, 'V': 4, 'U': 5, 'T': 6, 'S': 7, 'R': 8, 'Q': 9, 'P': 10, 'O': 11, 'N': 12, 'M': 13, 'L': 14, 'K': 15, 'J': 16, 'I': 17, 'H': 18, 'G': 19, 'F': 20, 'E': 21, 'D': 22, 'C': 23, 'B': 24, 'A': 25, '9': 26, '8': 27, '7': 28, '6': 29, '5': 30, '4': 31, '3': 32, '2': 33, '1': 34} "
          ]
        }
      ],
      "source": [
        "print(encoded,end=' ')"
      ]
    },
    {
      "cell_type": "code",
      "execution_count": null,
      "metadata": {
        "id": "roZ_yA6FjffS"
      },
      "outputs": [],
      "source": [
        "path = '/content/drive/MyDrive/data'\n",
        "image_list = []\n",
        "output_list = []\n",
        "p = 0\n",
        "for i in folder:\n",
        "  filename = os.listdir(f'{path}/{i}')\n",
        "  for j in filename:\n",
        "    image_list.append(cv2.imread(f'{path}/{i}/{j}',0))\n",
        "    output_list.append(p)\n",
        "  p+=1"
      ]
    },
    {
      "cell_type": "code",
      "execution_count": null,
      "metadata": {
        "id": "aU6_jv14r3Qh"
      },
      "outputs": [],
      "source": [
        "image_array = np.array(image_list)\n",
        "output_array = np.array(output_list)"
      ]
    },
    {
      "cell_type": "code",
      "execution_count": null,
      "metadata": {
        "colab": {
          "base_uri": "https://localhost:8080/"
        },
        "id": "9D3fEtH5XVV5",
        "outputId": "f2b7e55a-45da-4cff-d3d2-1a4de16203de"
      },
      "outputs": [
        {
          "data": {
            "text/plain": [
              "((42000, 128, 128), (42000,))"
            ]
          },
          "execution_count": 11,
          "metadata": {},
          "output_type": "execute_result"
        }
      ],
      "source": [
        "image_array.shape,output_array.shape"
      ]
    },
    {
      "cell_type": "code",
      "execution_count": null,
      "metadata": {
        "colab": {
          "base_uri": "https://localhost:8080/"
        },
        "id": "q-nTw_aqX2mN",
        "outputId": "88302e09-f768-4a51-a1d4-ac13276ab724"
      },
      "outputs": [
        {
          "data": {
            "text/plain": [
              "(42000, 16384)"
            ]
          },
          "execution_count": 8,
          "metadata": {},
          "output_type": "execute_result"
        }
      ],
      "source": [
        "k = image_array.reshape(-1,128*128)\n",
        "k.shape"
      ]
    },
    {
      "cell_type": "code",
      "execution_count": null,
      "metadata": {
        "colab": {
          "base_uri": "https://localhost:8080/"
        },
        "id": "NeJLZqdHxvj_",
        "outputId": "447cac8c-b9a5-46f9-a5fe-203b7add1674"
      },
      "outputs": [
        {
          "data": {
            "text/plain": [
              "16384"
            ]
          },
          "execution_count": 11,
          "metadata": {},
          "output_type": "execute_result"
        }
      ],
      "source": [
        "len(k[2])"
      ]
    },
    {
      "cell_type": "code",
      "execution_count": null,
      "metadata": {
        "id": "wrEiywpcXaRC"
      },
      "outputs": [],
      "source": [
        "# np.savetxt(f\"/content/drive/MyDrive/array_data/image/image123.csv\", k, delimiter=\",\")\n",
        "# np.savetxt(f\"/content/drive/MyDrive/array_data/image/label.csv\", output_array, delimiter=\",\")\n"
      ]
    },
    {
      "cell_type": "code",
      "execution_count": null,
      "metadata": {
        "id": "iGiYpD7abZJG"
      },
      "outputs": [],
      "source": [
        "data = pd.read_csv('/content/drive/MyDrive/array_data/image/image.csv')\n",
        "data.head()"
      ]
    },
    {
      "cell_type": "code",
      "execution_count": null,
      "metadata": {
        "colab": {
          "base_uri": "https://localhost:8080/"
        },
        "id": "1750YyLisGuU",
        "outputId": "7cbcd3fe-e732-43d3-b4e6-c057cf7c7845"
      },
      "outputs": [
        {
          "data": {
            "text/plain": [
              "(42000, 42000)"
            ]
          },
          "execution_count": 13,
          "metadata": {},
          "output_type": "execute_result"
        }
      ],
      "source": [
        "len(image_array),len(output_array)"
      ]
    },
    {
      "cell_type": "code",
      "execution_count": null,
      "metadata": {
        "id": "zOVn3otHlY9Q"
      },
      "outputs": [],
      "source": [
        "layer_0 = Input(shape=(128,128,1))\n",
        "layer_11 = Conv2D(filters=64,kernel_size = 3,activation = 'relu',padding = 'same',  kernel_initializer = 'he_normal')\n",
        "layer_1 = MaxPool2D(pool_size=(2,2))\n",
        "\n",
        "layer_21 = Conv2D(filters = 128,kernel_size = 3,activation = 'relu',padding = 'same',  kernel_initializer = 'he_normal')\n",
        "layer_2 = MaxPool2D((2,2))\n",
        "\n",
        "layer_31 = Conv2D(filters = 256,kernel_size = 3,activation = 'relu',padding = 'same',  kernel_initializer = 'he_normal')\n",
        "layer_3 = MaxPool2D((2,2))\n",
        "\n",
        "layer_41 = Conv2D(filters = 512,kernel_size = 3,activation = 'relu',padding = 'same',  kernel_initializer = 'he_normal')\n",
        "layer_4 = MaxPool2D((2,2))\n",
        "\n",
        "layer_5 = Flatten()\n",
        "\n",
        "layer_6 = Dense(units=100,activation = 'relu')\n",
        "\n",
        "layer_7 = Dense(units=50,activation = 'relu')\n",
        "\n",
        "layer_8 = Dense(units=35, activation='softmax')"
      ]
    },
    {
      "cell_type": "code",
      "execution_count": null,
      "metadata": {
        "id": "03Kppow4px5i"
      },
      "outputs": [],
      "source": [
        "model = Sequential([layer_0,layer_11,layer_1,layer_21,layer_2,layer_31,layer_3,layer_41\n",
        "                    ,layer_4, layer_5, layer_6, layer_7,layer_8])"
      ]
    },
    {
      "cell_type": "code",
      "execution_count": null,
      "metadata": {
        "id": "Wghcn36tbVay"
      },
      "outputs": [],
      "source": [
        "adam = Adam(learning_rate=0.001)\n",
        "scc = SparseCategoricalCrossentropy()\n",
        "model.compile(optimizer=adam,\n",
        "              loss=scc,\n",
        "              metrics = ['accuracy']\n",
        "              )"
      ]
    },
    {
      "cell_type": "code",
      "execution_count": 33,
      "metadata": {
        "colab": {
          "base_uri": "https://localhost:8080/"
        },
        "id": "p2a-zTKs23Cx",
        "outputId": "bee1ce13-58d8-4710-f2b4-dc676d9d2b63"
      },
      "outputs": [
        {
          "output_type": "stream",
          "name": "stdout",
          "text": [
            "Epoch 1/3\n",
            "1313/1313 [==============================] - 7405s 6s/step - loss: 2.8986 - accuracy: 0.9668\n",
            "Epoch 2/3\n",
            "1313/1313 [==============================] - 6678s 5s/step - loss: 1.2040e-05 - accuracy: 1.0000\n",
            "Epoch 3/3\n",
            "1313/1313 [==============================] - 5469s 4s/step - loss: 2.0586e-06 - accuracy: 1.0000\n"
          ]
        },
        {
          "output_type": "execute_result",
          "data": {
            "text/plain": [
              "<keras.callbacks.History at 0x7f4c7fe9b7f0>"
            ]
          },
          "metadata": {},
          "execution_count": 33
        }
      ],
      "source": [
        "model.fit(image_array,output_array,epochs=3,batch_size = 32)"
      ]
    },
    {
      "cell_type": "code",
      "execution_count": 34,
      "metadata": {
        "id": "HG4rfBPg38JE"
      },
      "outputs": [],
      "source": [
        "model.save('/content/drive/MyDrive/array_data/image/sign.h5')\n"
      ]
    },
    {
      "cell_type": "code",
      "source": [
        "new_model = tf.keras.models.load_model('/content/drive/MyDrive/array_data/image/sign.h5')\n"
      ],
      "metadata": {
        "id": "_SkZKEoGGFYA"
      },
      "execution_count": 3,
      "outputs": []
    },
    {
      "cell_type": "code",
      "source": [
        "image_array[1].shape"
      ],
      "metadata": {
        "colab": {
          "base_uri": "https://localhost:8080/"
        },
        "id": "vts_ramdEd6B",
        "outputId": "ac4456fc-236b-474c-c17d-28f1908e37d0"
      },
      "execution_count": 39,
      "outputs": [
        {
          "output_type": "execute_result",
          "data": {
            "text/plain": [
              "(128, 128)"
            ]
          },
          "metadata": {},
          "execution_count": 39
        }
      ]
    },
    {
      "cell_type": "code",
      "source": [
        "test = cv2.imread(f'/content/drive/MyDrive/data/W/1004.jpg',0)\n",
        "# k=test.reshape(128,128,1)\n",
        "test = cv2.resize(test,(128,128))\n",
        "# plt.imshow(image_array[4])\n",
        "# image_array[0],test\n",
        "y_pred = new_model.predict(np.array([test]))\n",
        "plt.imshow(test)\n"
      ],
      "metadata": {
        "colab": {
          "base_uri": "https://localhost:8080/",
          "height": 303
        },
        "id": "j4XzqbsAD5Gu",
        "outputId": "4e6b3ac1-96a2-4979-c6f3-b2563f127b9c"
      },
      "execution_count": 68,
      "outputs": [
        {
          "output_type": "stream",
          "name": "stdout",
          "text": [
            "1/1 [==============================] - 0s 58ms/step\n"
          ]
        },
        {
          "output_type": "execute_result",
          "data": {
            "text/plain": [
              "<matplotlib.image.AxesImage at 0x7f7a2d775a90>"
            ]
          },
          "metadata": {},
          "execution_count": 68
        },
        {
          "output_type": "display_data",
          "data": {
            "text/plain": [
              "<Figure size 432x288 with 1 Axes>"
            ],
            "image/png": "[encoded data removed]"
          },
          "metadata": {
            "needs_background": "light"
          }
        }
      ]
    },
    {
      "cell_type": "code",
      "source": [
        "# predict = list(y_pred)"
      ],
      "metadata": {
        "id": "td5xdZ3LD_v7"
      },
      "execution_count": 69,
      "outputs": []
    },
    {
      "cell_type": "markdown",
      "source": [],
      "metadata": {
        "id": "PNL_P-SZObeW"
      }
    },
    {
      "cell_type": "code",
      "source": [
        "# encode_keys = list(encoded.keys())\n",
        "# encode_keys"
      ],
      "metadata": {
        "id": "1oWrrkcKJGwq"
      },
      "execution_count": 70,
      "outputs": []
    },
    {
      "cell_type": "code",
      "source": [
        "probab = y_pred.tolist()[0]\n",
        "print(\"Predicted Digit =\", encode_keys[probab.index(max(probab))])\n",
        "# view_classify(img.view(1, 28, 28), "
      ],
      "metadata": {
        "colab": {
          "base_uri": "https://localhost:8080/"
        },
        "id": "FLgdDlN6F1nu",
        "outputId": "7fabe13e-601d-433e-b4ef-193b5688cc45"
      },
      "execution_count": 71,
      "outputs": [
        {
          "output_type": "stream",
          "name": "stdout",
          "text": [
            "Predicted Digit = W\n"
          ]
        }
      ]
    },
    {
      "cell_type": "code",
      "source": [
        "probab"
      ],
      "metadata": {
        "colab": {
          "base_uri": "https://localhost:8080/"
        },
        "id": "X0US8fi1HEhP",
        "outputId": "5a13b7fc-63c2-4a33-dbcc-e03db5941a0c"
      },
      "execution_count": 67,
      "outputs": [
        {
          "output_type": "execute_result",
          "data": {
            "text/plain": [
              "[6.8834509388282245e-15,\n",
              " 4.374304805637892e-14,\n",
              " 3.076676962640819e-20,\n",
              " 2.3164172480296033e-27,\n",
              " 2.82365787493459e-23,\n",
              " 4.353565947435664e-20,\n",
              " 0.01958906091749668,\n",
              " 0.09751563519239426,\n",
              " 2.7704100406984733e-13,\n",
              " 8.07467905939154e-18,\n",
              " 6.564818404598133e-14,\n",
              " 1.5840861837250367e-15,\n",
              " 9.026484093058068e-28,\n",
              " 1.0273193022181451e-13,\n",
              " 2.6577286717428296e-14,\n",
              " 0.0,\n",
              " 1.4787450900584332e-16,\n",
              " 0.0021818429231643677,\n",
              " 3.878320958720686e-20,\n",
              " 1.2862657698018968e-17,\n",
              " 2.761030607704301e-13,\n",
              " 4.5487150599398994e-21,\n",
              " 1.075713828683206e-36,\n",
              " 1.9873198642272882e-09,\n",
              " 2.0184465584313936e-16,\n",
              " 4.2644812579513e-18,\n",
              " 1.8311170295226344e-26,\n",
              " 0.8807119727134705,\n",
              " 1.9796513317515974e-09,\n",
              " 1.4679167179565411e-06,\n",
              " 4.101322682341615e-22,\n",
              " 1.9943637992557472e-20,\n",
              " 2.375522445419165e-09,\n",
              " 1.6955716078407745e-30,\n",
              " 3.805952081270547e-11]"
            ]
          },
          "metadata": {},
          "execution_count": 67
        }
      ]
    },
    {
      "cell_type": "code",
      "source": [],
      "metadata": {
        "id": "I4Dh_M_IH7PK"
      },
      "execution_count": null,
      "outputs": []
    }
  ],
  "metadata": {
    "colab": {
      "provenance": [],
      "authorship_tag": "ABX9TyPDDG6EcGp0FeyPpQolouaT",
      "include_colab_link": true
    },
    "kernelspec": {
      "display_name": "Python 3",
      "name": "python3"
    },
    "language_info": {
      "name": "python"
    }
  },
  "nbformat": 4,
  "nbformat_minor": 0
}